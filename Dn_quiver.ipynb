{
 "cells": [
  {
   "cell_type": "code",
   "execution_count": 46,
   "metadata": {},
   "outputs": [
    {
     "data": {
      "text/plain": [
       "[(1, (0,)),\n",
       " (1, (1,)),\n",
       " (1, (2,)),\n",
       " (2, (0,)),\n",
       " (2, (1,)),\n",
       " (2, (2,)),\n",
       " (3, (0,)),\n",
       " (3, (1,)),\n",
       " (3, (2,)),\n",
       " (4, (0,)),\n",
       " (4, (1,)),\n",
       " (4, (2,))]"
      ]
     },
     "execution_count": 46,
     "metadata": {},
     "output_type": "execute_result"
    }
   ],
   "source": [
    "import sympy as sp\n",
    "from queue import Queue\n",
    "\n",
    "def ar_translate(M: sp.Matrix) -> sp.Matrix:\n",
    "    \"\"\" Auslander-Reiten translate of a module. \"\"\"\n",
    "    return A * M\n",
    "\n",
    "def l_simplex(l: int, n: int) -> set:\n",
    "    \"\"\" l-simplex of dimension n for an integer l. \"\"\"\n",
    "    D = set()\n",
    "    q = Queue()\n",
    "    q.put([None] + [0] * n)\n",
    "    while not q.empty():\n",
    "        L = q.get()\n",
    "        if sum(L[1:]) <= l:\n",
    "            D.add(tuple(L[1:]))\n",
    "            for i in range(1, len(L)):\n",
    "                L[i] += 1\n",
    "                q.put(L.copy())\n",
    "                L[i] -= 1\n",
    "    return D\n",
    "\n",
    "# Indecomposable projectives\n",
    "P = [\n",
    "    None,\n",
    "    sp.Matrix([1, 0, 0, 0]),\n",
    "    sp.Matrix([1, 1, 0, 0]),\n",
    "    sp.Matrix([1, 1, 1, 0]),\n",
    "    sp.Matrix([1, 1, 0, 1])\n",
    "]\n",
    "# Cartan matrix\n",
    "C = sp.Matrix(\n",
    "    [P[i].T for i in range(1, len(P))]\n",
    ").T\n",
    "# Indecomposable injectives\n",
    "I = [None] + [\n",
    "    C.row(i-1).T for i in range(1, len(P))\n",
    "]\n",
    "# Coxeter matrix\n",
    "A = -C.T * C**-1\n",
    "\n",
    "# Maximum number of translations of injectives\n",
    "l = [None] + [0] * (len(I) - 1)\n",
    "for i in range(1, len(I)):\n",
    "    M = I[i]\n",
    "    while M not in P:\n",
    "        M = ar_translate(M)\n",
    "        l[i] += 1\n",
    "\n",
    "# Calculating D_n^1 quiver\n",
    "\n",
    "# l-simplices for indecomposable injectives\n",
    "D = [None] + [\n",
    "    l_simplex(l[i], 1) for i in range(1, len(I))\n",
    "]\n",
    "# vertices\n",
    "Q_0 = [\n",
    "    (x, l) for x in range(1, len(I)) for l in D[x]\n",
    "]\n",
    "# TODO arrows"
   ]
  }
 ],
 "metadata": {
  "kernelspec": {
   "display_name": "Python 3",
   "language": "python",
   "name": "python3"
  },
  "language_info": {
   "codemirror_mode": {
    "name": "ipython",
    "version": 3
   },
   "file_extension": ".py",
   "mimetype": "text/x-python",
   "name": "python",
   "nbconvert_exporter": "python",
   "pygments_lexer": "ipython3",
   "version": "3.11.3"
  },
  "orig_nbformat": 4
 },
 "nbformat": 4,
 "nbformat_minor": 2
}
